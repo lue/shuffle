{
 "cells": [
  {
   "cell_type": "code",
   "execution_count": 36,
   "metadata": {
    "collapsed": true
   },
   "outputs": [],
   "source": [
    "import numpy as np\n",
    "import matplotlib.pyplot as plt\n",
    "import glob\n",
    "import matplotlib.cm as cm\n",
    "\n",
    "\n",
    "def readifrit(path, nvar=0, moden=2, skipmoden=2):\n",
    "    import struct\n",
    "    import numpy as np\n",
    "    openfile=open(path, \"rb\")\n",
    "    dump = np.fromfile(openfile, dtype='i', count=moden)\n",
    "    N1,N2,N3=np.fromfile(openfile, dtype='i', count=3)\n",
    "#     print(N1,N2,N3)\n",
    "    dump = np.fromfile(openfile, dtype='i', count=moden)\n",
    "    data = np.zeros([N1, N2, N3])\n",
    "    j = 0\n",
    "    for i in range(nvar):\n",
    "        openfile.seek(4*skipmoden, 1)\n",
    "        for j in range(4):\n",
    "            openfile.seek(N1*N2*N3, 1)\n",
    "        openfile.seek(4*moden, 1)\n",
    "    openfile.seek(4*skipmoden, 1)\n",
    "    data[:, :, :] = np.reshape(np.fromfile(openfile, dtype='f4', count=N1 * N2 * N3), [N1, N2, N3])\n",
    "    openfile.close()\n",
    "    return N1,N2,N3,data\n",
    "\n",
    "\n",
    "def downsample(data,f=2):\n",
    "    data_new=(data[::2, ::2, ::2]+data[1::2, ::2, ::2]+\n",
    "              data[::2, 1::2, ::2]+data[::2, ::2, 1::2]+\n",
    "              data[1::2, 1::2, ::2]+data[::2, 1::2, 1::2]+\n",
    "              data[1::2, ::2, 1::2]+data[1::2, 1::2, 1::2])\n",
    "    return data_new\n",
    "\n",
    "def pk(data, box_size, k_list_phys, mode=0, usefftw=False):\n",
    "    N = data.shape[0]\n",
    "    k_list = k_list_phys*box_size/N\n",
    "    data=np.fft.rfftn(data)\n",
    "    kx, ky, kz = np.mgrid[:N, :N, :(N/2+1)]\n",
    "    kx[kx > N/2-1] = kx[kx > N/2-1]-N\n",
    "    ky[ky > N/2-1] = ky[ky > N/2-1]-N\n",
    "    kz[kz > N/2-1] = kz[kz > N/2-1]-N\n",
    "    k=2.0*np.pi*np.sqrt(kx**2+ky**2+kz**2)/N\n",
    "    if mode == 1:\n",
    "        kf = 2.0*np.pi/N\n",
    "        res = np.zeros(len(k_list)-1)\n",
    "        for i in range(len(k_list)-1):\n",
    "            if np.sum((k >= k_list[i]) & (k < k_list[i+1]))>0:\n",
    "                res[i] = np.mean(np.abs(data[(k >= k_list[i]) & (k < k_list[i+1])])**2)\n",
    "        return res*box_size**3 / N**6\n",
    "    if mode==0:\n",
    "        kf=2.0*np.pi/N\n",
    "        h1, dump = np.histogram(k.flat,weights=np.abs(data.flat)**2,bins=k_list)\n",
    "        h2, dump = np.histogram(k.flat,bins=k_list)\n",
    "        h2[h2==0] = 1.0\n",
    "        res = h1/h2\n",
    "        return res*box_size**3/N**6\n",
    "    if mode==2:\n",
    "        kf=2.0*np.pi/N\n",
    "        res=np.zeros(len(k_list))\n",
    "        for i in range(len(k_list)):\n",
    "            res[i]=np.mean(np.abs(data[(k>=k_list[i]-kf) & (k<k_list[i]+kf)])**2)\n",
    "        return res*box_size**3/N**6\n",
    "    if mode==2:\n",
    "        return k,data\n",
    "\n",
    "def pk2(data, data2, box_size, k_list_phys, mode=0, usefftw=False):\n",
    "    N = data.shape[0]\n",
    "    k_list = k_list_phys*box_size/N\n",
    "    data=np.fft.rfftn(data)\n",
    "    data2=np.fft.rfftn(data2)\n",
    "    kx, ky, kz = np.mgrid[:N, :N, :(N/2+1)]\n",
    "    kx[kx > N/2-1] = kx[kx > N/2-1]-N\n",
    "    ky[ky > N/2-1] = ky[ky > N/2-1]-N\n",
    "    kz[kz > N/2-1] = kz[kz > N/2-1]-N\n",
    "    k=2.0*np.pi*np.sqrt(kx**2+ky**2+kz**2)/N\n",
    "    if mode == 1:\n",
    "        kf = 2.0*np.pi/N\n",
    "        res = np.zeros(len(k_list)-1)\n",
    "        for i in range(len(k_list)-1):\n",
    "            if np.sum((k >= k_list[i]) & (k < k_list[i+1]))>0:\n",
    "                res[i] = np.mean((data[(k >= k_list[i]) & (k < k_list[i+1])]\n",
    "                                      * np.conjugate(data2[(k >= k_list[i]) & (k < k_list[i+1])])))\n",
    "        return res*box_size**3 / N**6\n",
    "    if mode==0:\n",
    "        kf=2.0*np.pi/N\n",
    "        h1, dump = np.histogram(k.flat,weights=np.real(data.flatten()*np.conjugate(data2.flatten())),bins=k_list)\n",
    "        h2, dump = np.histogram(k.flat,bins=k_list)\n",
    "        h2[h2==0] = 1.0\n",
    "        res = h1/h2\n",
    "        return res*box_size**3/N**6\n",
    "    if mode==2:\n",
    "        kf=2.0*np.pi/N\n",
    "        res=np.zeros(len(k_list))\n",
    "        for i in range(len(k_list)):\n",
    "            res[i]=np.mean(np.abs(data[(k>=k_list[i]-kf) & (k<k_list[i]+kf)])**2)\n",
    "        return res*box_size**3/N**6\n",
    "    if mode==3:\n",
    "        kf = 2.0*np.pi/N\n",
    "        res = np.zeros(len(k_list)-1)\n",
    "        res2 = np.zeros(len(k_list)-1)\n",
    "        for i in range(len(k_list)-1):\n",
    "            if np.sum((k >= k_list[i]) & (k < k_list[i+1]))>0:\n",
    "#                 print(np.corrcoef(x=data[(k >= k_list[i]) & (k < k_list[i+1])].flatten(),\n",
    "#                                       y=data2[(k >= k_list[i]) & (k < k_list[i+1])].flatten())[0][1])\n",
    "                res[i] = (np.corrcoef(x=data[(k >= k_list[i]) & (k < k_list[i+1])].flatten(),\n",
    "                                      y=data2[(k >= k_list[i]) & (k < k_list[i+1])].flatten())[0][1])\n",
    "                res2[i] = np.mean(data[(k >= k_list[i]) & (k < k_list[i+1])].flatten() * \n",
    "                                  np.conjugate(data2[(k >= k_list[i]) & (k < k_list[i+1])].flatten()))\n",
    "        return res, res2\n",
    "\n",
    "#####\n",
    "\n",
    "machine = 'ias'\n",
    "%matplotlib inline\n",
    "\n",
    "i_list=[0,1,2,3,4,5,6,7]"
   ]
  },
  {
   "cell_type": "code",
   "execution_count": 37,
   "metadata": {
    "collapsed": true
   },
   "outputs": [],
   "source": [
    "# T10 = 0.068 # K   */\n",
    "# A10 = 2.85e-15 # 1/s */\n",
    "\n",
    "# Tcmb = 2.728/auni[min_level];\n",
    "# xa = T10/(A10*Tcmb)*nxi_lya*3e10*4.5e-18*4/27.0;"
   ]
  },
  {
   "cell_type": "code",
   "execution_count": 38,
   "metadata": {},
   "outputs": [
    {
     "name": "stdout",
     "output_type": "stream",
     "text": [
      "[ 0.0109  0.0112  0.0326  0.0336  0.0346  0.0354  0.0363  0.0372  0.0381\n",
      "  0.0391  0.04    0.0409  0.0417  0.0426  0.0435  0.0454  0.0464  0.0474\n",
      "  0.0482  0.05    0.0509  0.0518  0.0528  0.0548  0.0556  0.0582  0.0591\n",
      "  0.062   0.063   0.064   0.0648  0.0665  0.0674  0.0683  0.0692  0.0711\n",
      "  0.0721  0.0731  0.0741  0.0766  0.0775  0.0793  0.0802  0.083   0.084\n",
      "  0.086   0.087   0.0904  0.0913  0.0931  0.0941  0.0959  0.0969  0.0999\n",
      "  0.1009  0.1028  0.1036  0.1063  0.1072]\n",
      "[ 0.0109  0.0112  0.0115  0.0118  0.0121  0.0125  0.0128  0.0132  0.0136\n",
      "  0.014   0.0144  0.0326  0.0336  0.0346  0.0354  0.0363  0.0372  0.0381\n",
      "  0.0391  0.04    0.0409  0.0417  0.0426  0.0435  0.0454  0.0464  0.0474\n",
      "  0.0482  0.05    0.0509  0.0518  0.0528  0.0548  0.0556  0.0582  0.0591\n",
      "  0.062   0.063   0.064   0.0648  0.0665  0.0674  0.0683  0.0692  0.0711\n",
      "  0.0721  0.0731  0.0741  0.0766  0.0775  0.0793  0.0802  0.083   0.084\n",
      "  0.086   0.087   0.0904  0.0913  0.0931  0.0941  0.0959  0.0969  0.0999\n",
      "  0.1009  0.1028  0.1036  0.1063]\n"
     ]
    }
   ],
   "source": [
    "files1 = glob.glob('/home/kaurov/scratch/rei/shuffle10/xxxOUT_xshuffle_%04i_%04i/*.bin'%(0,0))\n",
    "files2 = glob.glob('/home/kaurov/scratch/rei/shuffle10/xxxOUT_xshuffle_%04i_%04i/*.bin'%(64,7))\n",
    "\n",
    "files1.sort()\n",
    "files2.sort()\n",
    "\n",
    "snaps_n1 = np.array([np.float(files1[i][-10:-4]) for i in range(len(files1))])\n",
    "snaps_n2 = np.array([np.float(files2[i][-10:-4]) for i in range(len(files2))])\n",
    "\n",
    "print(snaps_n1)\n",
    "print(snaps_n2)"
   ]
  },
  {
   "cell_type": "code",
   "execution_count": 43,
   "metadata": {},
   "outputs": [
    {
     "name": "stdout",
     "output_type": "stream",
     "text": [
      "8.090909090909092\n"
     ]
    },
    {
     "ename": "IndexError",
     "evalue": "index 0 is out of bounds for axis 0 with size 0",
     "output_type": "error",
     "traceback": [
      "\u001b[0;31m---------------------------------------------------------------------------\u001b[0m",
      "\u001b[0;31mIndexError\u001b[0m                                Traceback (most recent call last)",
      "\u001b[0;32m<ipython-input-43-1840cacdfd23>\u001b[0m in \u001b[0;36m<module>\u001b[0;34m()\u001b[0m\n\u001b[1;32m      1\u001b[0m \u001b[0ma\u001b[0m \u001b[0;34m=\u001b[0m \u001b[0;36m0.11\u001b[0m\u001b[0;34m\u001b[0m\u001b[0m\n\u001b[1;32m      2\u001b[0m \u001b[0mprint\u001b[0m\u001b[0;34m(\u001b[0m\u001b[0;36m1\u001b[0m\u001b[0;34m/\u001b[0m\u001b[0ma\u001b[0m\u001b[0;34m-\u001b[0m\u001b[0;36m1\u001b[0m\u001b[0;34m)\u001b[0m\u001b[0;34m\u001b[0m\u001b[0m\n\u001b[0;32m----> 3\u001b[0;31m \u001b[0mi1\u001b[0m \u001b[0;34m=\u001b[0m \u001b[0mnp\u001b[0m\u001b[0;34m.\u001b[0m\u001b[0mwhere\u001b[0m\u001b[0;34m(\u001b[0m\u001b[0msnaps_n1\u001b[0m\u001b[0;34m>=\u001b[0m\u001b[0ma\u001b[0m\u001b[0;34m)\u001b[0m\u001b[0;34m[\u001b[0m\u001b[0;36m0\u001b[0m\u001b[0;34m]\u001b[0m\u001b[0;34m[\u001b[0m\u001b[0;36m0\u001b[0m\u001b[0;34m]\u001b[0m\u001b[0;34m\u001b[0m\u001b[0m\n\u001b[0m\u001b[1;32m      4\u001b[0m \u001b[0mi2\u001b[0m \u001b[0;34m=\u001b[0m \u001b[0mnp\u001b[0m\u001b[0;34m.\u001b[0m\u001b[0mwhere\u001b[0m\u001b[0;34m(\u001b[0m\u001b[0msnaps_n2\u001b[0m\u001b[0;34m>=\u001b[0m\u001b[0ma\u001b[0m\u001b[0;34m)\u001b[0m\u001b[0;34m[\u001b[0m\u001b[0;36m0\u001b[0m\u001b[0;34m]\u001b[0m\u001b[0;34m[\u001b[0m\u001b[0;36m0\u001b[0m\u001b[0;34m]\u001b[0m\u001b[0;34m\u001b[0m\u001b[0m\n\u001b[1;32m      5\u001b[0m \u001b[0;34m\u001b[0m\u001b[0m\n",
      "\u001b[0;31mIndexError\u001b[0m: index 0 is out of bounds for axis 0 with size 0"
     ]
    }
   ],
   "source": [
    "a = 0.11\n",
    "print(1/a-1)\n",
    "i1 = np.where(snaps_n1>=a)[0][0]\n",
    "i2 = np.where(snaps_n2>=a)[0][0]\n",
    "\n",
    "print(snaps_n1[i1], snaps_n2[i2])\n",
    "\n",
    "temp1 = readifrit(files1[i1], nvar=3)[3]\n",
    "temp2 = readifrit(files2[i1], nvar=3)[3]\n",
    "temp121 = readifrit(files1[i1], nvar=2)[3]\n",
    "temp221 = readifrit(files2[i1], nvar=2)[3]\n",
    "\n",
    "T10 = 0.068 # K   */\n",
    "A10 = 2.85e-15 # 1/s */\n",
    "\n",
    "Tcmb = 2.728/a\n",
    "xa_mult = T10/(A10*Tcmb)*3e10*4.5e-18*4/27.0\n",
    "\n",
    "\n",
    "from matplotlib.colors import LogNorm\n",
    "plt.figure(figsize=(6,6), dpi=300)\n",
    "plt.subplot(221)\n",
    "plt.imshow(np.mean(temp1[:,:,50:51]*xa_mult,2), norm=LogNorm(vmin=0.01, vmax=1))\n",
    "plt.colorbar()\n",
    "plt.subplot(222)\n",
    "plt.imshow(np.mean(temp2[:,:,50:51]*xa_mult,2), norm=LogNorm(vmin=0.01, vmax=1))\n",
    "plt.colorbar()\n",
    "plt.subplot(223)\n",
    "plt.imshow((temp121[:,:,50]), cmap='bwr', vmin=-0.005, vmax=0.005)\n",
    "plt.colorbar()\n",
    "plt.subplot(224)\n",
    "plt.imshow((temp221[:,:,50]), cmap='bwr', vmin=-0.005, vmax=0.005)\n",
    "plt.colorbar()"
   ]
  },
  {
   "cell_type": "code",
   "execution_count": null,
   "metadata": {
    "collapsed": true
   },
   "outputs": [],
   "source": []
  },
  {
   "cell_type": "code",
   "execution_count": null,
   "metadata": {
    "collapsed": true
   },
   "outputs": [],
   "source": []
  }
 ],
 "metadata": {
  "kernelspec": {
   "display_name": "Python [Root]",
   "language": "python",
   "name": "Python [Root]"
  },
  "language_info": {
   "codemirror_mode": {
    "name": "ipython",
    "version": 3
   },
   "file_extension": ".py",
   "mimetype": "text/x-python",
   "name": "python",
   "nbconvert_exporter": "python",
   "pygments_lexer": "ipython3",
   "version": "3.5.3"
  }
 },
 "nbformat": 4,
 "nbformat_minor": 2
}
